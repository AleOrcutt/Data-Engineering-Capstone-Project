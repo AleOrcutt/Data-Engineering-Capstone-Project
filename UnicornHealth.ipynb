{
 "cells": [
  {
   "cell_type": "markdown",
   "id": "0f6fdfc6",
   "metadata": {
    "slideshow": {
     "slide_type": "-"
    }
   },
   "source": [
    "\n",
    "# Private Clinic Data Architecture Design and  Transition to AWS\n",
    "\n",
    "The goal of this project is to solve a business problem. We will design the data architecture for a small private clinic. In order to do this, we need to understand the problem. After this, we will design a business process diagram to visualize the business model. Then, we will look at all relevant data and finally, we will understand how all the data relates. We will transition the business to a cloud environment to automize the data process."
   ]
  },
  {
   "cell_type": "markdown",
   "id": "e2f187b9",
   "metadata": {},
   "source": [
    "Lets visualize the basic business model:\n",
    "\n",
    "![](Documents/PrivateClinicProcessFlow.jpeg)\n",
    "This diagram was made in <a href=\"https://www.lucidchart.com/\">lucidchart</a>\n"
   ]
  },
  {
   "cell_type": "markdown",
   "id": "8538438b",
   "metadata": {},
   "source": [
    "### Schematic Presentation of Data Structure\n",
    "\n",
    "Above, we have visualized the basic business process. Next, we will determine the basic Data Structure by identifying the main elements, which are <b>patient</b>, <b>appointment</b>, <b>doctor</b> and <b>note</b> . The attributes for each element are being also identified.  Finally, we will proceed to identify the connections between the entities.\n",
    "\n",
    "![] ![EER Diagram](<https://github.com/AleOrcutt/UnicornHealth/blob/main/CapstoneEER.png>)"
   ]
  },
  {
   "cell_type": "markdown",
   "id": "874205c2",
   "metadata": {},
   "source": [
    "### Determination of foreign and primary keys \n",
    "\n",
    "The diagram above, helps us identify the basic data needed for each element. The foreign and primary keys (unique keys) are being identified and highlighted in the diagram below. Notice that <b>NOTE</b> contains all primary keys from the other tables. These are the foreign keys.\n"
   ]
  },
  {
   "cell_type": "markdown",
   "id": "bc6a3c3e",
   "metadata": {},
   "source": [
    "## DATA CREATION PROCESS\n",
    "\n",
    "### Generating Mock Data\n",
    "\n",
    "We used a <a href =\"https://www.mockaroo.com/\"> mock data generator</a>.  "
   ]
  },
  {
   "cell_type": "markdown",
   "id": "7469fa07",
   "metadata": {},
   "source": [
    "### Database creation\n",
    "We generated test data based on our own specs. After that, we loaded CSV files directly into our test environment which in our case was MySql Workbench.\n"
   ]
  },
  {
   "cell_type": "markdown",
   "id": "007fe290",
   "metadata": {},
   "source": [
    "### Data Definition Language (DDL)\n",
    "\n",
    "specify the storage groups to be used. We defined the datatype, primary keys and foreign keys.  See diagram below\n"
   ]
  },
  {
   "cell_type": "markdown",
   "id": "ade5c67f",
   "metadata": {},
   "source": [
    "###  Enhanced entity-relationship (EER)\n",
    "\n",
    "This model is helpful as a tool to plan the database and visualize the relationships among the tables.\n",
    "\n",
    "\n",
    "![](Documents/CapstoneEER.png)"
   ]
  },
  {
   "cell_type": "markdown",
   "id": "23fc9567",
   "metadata": {},
   "source": [
    "### Resources used to create this notebook:\n",
    "\n",
    "\n",
    "* SQLite Python: Creating a New Database https://www.sqlitetutorial.net/sqlite-python/creating-database/\n",
    "* Database design & DBeaver | Information System 3 https://www.youtube.com/watch?v=ezPJtCeB_5I&t=149s\n",
    "* Mockaroo lets you generate up to 1,000 rows of realistic test data in CSV, JSON, SQL, and Excel formats https://www.mockaroo.com/"
   ]
  },
  {
   "cell_type": "markdown",
   "id": "94262a0d",
   "metadata": {},
   "source": [
    "\n",
    "# SCRATCH NOTES FOR A&Y\n",
    "\n",
    "SQLlite is not supported by RDS but I can store everything in an EC2 instance and then use Migration https://aws.amazon.com/dms/schema-conversion-tool/\n",
    "\n",
    "iam logic https://docs.aws.amazon.com/IAM/latest/UserGuide/reference_policies_evaluation-logic.html\n",
    "\n",
    "free AWS https://aws.amazon.com/free\n",
    "\n",
    "get a second aws account alejandra+alejandraa.orcutt.gmail.com (will not need a new email address)\n",
    "\n",
    "AWS trainer said it was a bad practice to put credentials in a Python script. He said to use a role instead for the script\n",
    "\n",
    "A single role can be assigned to different instances\n",
    "use AWS Artifact to comply with HIPPA for the capstone\n",
    "\n",
    "EXAMPLE to make a website https://cf.somethingskepper.com/#\n",
    "\n",
    "Maybe store Jupyter in S3 and share"
   ]
  },
  {
   "cell_type": "code",
   "execution_count": null,
   "id": "457f6cd3",
   "metadata": {},
   "outputs": [],
   "source": []
  }
 ],
 "metadata": {
  "kernelspec": {
   "display_name": "Python 3 (ipykernel)",
   "language": "python",
   "name": "python3"
  },
  "language_info": {
   "codemirror_mode": {
    "name": "ipython",
    "version": 3
   },
   "file_extension": ".py",
   "mimetype": "text/x-python",
   "name": "python",
   "nbconvert_exporter": "python",
   "pygments_lexer": "ipython3",
   "version": "3.9.7"
  }
 },
 "nbformat": 4,
 "nbformat_minor": 5
}

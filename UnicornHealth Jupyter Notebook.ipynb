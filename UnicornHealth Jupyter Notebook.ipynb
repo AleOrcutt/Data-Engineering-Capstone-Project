{
 "cells": [
  {
   "cell_type": "markdown",
   "id": "97c1a563",
   "metadata": {},
   "source": [
    "# Data Engineering Capstone Project- Data Architecture Design and  Transition to AWS"
   ]
  },
  {
   "cell_type": "markdown",
   "id": "0f6fdfc6",
   "metadata": {
    "slideshow": {
     "slide_type": "-"
    }
   },
   "source": [
    "\n",
    "## Introduction\n",
    "The goal of this project is to solve a business problem. We will design the data architecture for a small private clinic. \n",
    "\n",
    "This is a fictional healthcare clinic.\n",
    "\n",
    "* Name: UnicornHealth\n",
    "* Scope: Local\n",
    "* Patients: 500\n",
    "* Employees: 25\n",
    "* Kind of practice: Family Practice \n",
    "\n",
    "In order to do design the data architecture, we need to understand the problem. After this, we will design a business process diagram to visualize the business model. Then, we will look at all relevant data and finally, we will understand how all the data relates. We will transition the business to a cloud environment to automize the data process."
   ]
  },
  {
   "cell_type": "markdown",
   "id": "e2f187b9",
   "metadata": {},
   "source": [
    "Lets visualize the basic business model:\n",
    "\n",
    "We used <a href=\"https://www.lucidchart.com/\">lucidchart</a> to make the\n",
    "<a href=\"https://github.com/AleOrcutt/DE-CapstoneProject-UnicornHealth/blob/cc9a792fb3eef2f2769fa33d27740198f9f4228a/PrivateClinicProcessFlow.jpeg\">business model diagram</a>.\n",
    "\n"
   ]
  },
  {
   "cell_type": "markdown",
   "id": "8538438b",
   "metadata": {},
   "source": [
    "### Schematic Presentation of Data Structure\n",
    "\n",
    "The business model diagram, helped with the visualization of the basic business process of UnicornHealth. Next, we will determine the basic Data Structure by identifying the main elements, which are <b>patient</b>, <b>appointment</b>, <b>encounter</b> and <b>employee</b> . We also generated mock data related to billing and insurance . The attributes for each element are being also identified.  Finally, we will proceed to identify the connections between the entities.\n",
    "\n"
   ]
  },
  {
   "cell_type": "markdown",
   "id": "bc6a3c3e",
   "metadata": {},
   "source": [
    "## DATA CREATION PROCESS\n",
    "\n",
    "### Database creation\n",
    "We used a <a href =\"https://www.mockaroo.com/\"> mock data generator</a> to generate fake but realistic data. Open <a href =\"https://github.com/AleOrcutt/DE-CapstoneProject-UnicornHealth/blob/cc9a792fb3eef2f2769fa33d27740198f9f4228a/MockTableCreation.pdf\">this file</a> to get an idea of the conditions we established to generate the data.\n",
    "\n",
    "We loaded CSV files directly into our test environment which in our case was MySql Workbench.\n",
    "\n",
    "<a href =\"https://github.com/AleOrcutt/UnicornHealth/blob/65fffd57217f267270da1e0e0b6d7e936d601bf3/account%20(3).csv\">account.csv file</a>\n",
    "\n",
    "<a href =\"https://github.com/AleOrcutt/UnicornHealth/blob/7cbff859b75f6ff43d449cc0c9e06a7b6a751d44/employee.csv\">employee.csv file</a>\n",
    "\n",
    "<a href =\"https://github.com/AleOrcutt/UnicornHealth/blob/65fffd57217f267270da1e0e0b6d7e936d601bf3/appointment.csv\">appointment.csv file</a>\n",
    "\n",
    "<a href =\"https://github.com/AleOrcutt/UnicornHealth/blob/65fffd57217f267270da1e0e0b6d7e936d601bf3/encounter%20(1).csv\">encounter.csv file</a>\n",
    "\n",
    "<a href =\"https://github.com/AleOrcutt/UnicornHealth/blob/65fffd57217f267270da1e0e0b6d7e936d601bf3/insurance.csv\">insurance.csv file</a>\n",
    "\n",
    "<a href =\"https://github.com/AleOrcutt/UnicornHealth/blob/65fffd57217f267270da1e0e0b6d7e936d601bf3/paient500.csv\">patient.csv file</a>\n"
   ]
  },
  {
   "cell_type": "markdown",
   "id": "874205c2",
   "metadata": {},
   "source": [
    "### Determination of foreign and primary keys \n",
    "\n",
    "Each table has a primary key, which is unique in the dataset. The foreign correspond to a primary key belonging to a different table.\n",
    "\n",
    "The foreign and primary keys (unique keys) are being identified and highlighted in the diagram below. \n"
   ]
  },
  {
   "cell_type": "markdown",
   "id": "007fe290",
   "metadata": {},
   "source": [
    "### Data Definition Language (DDL)\n",
    "\n",
    "We especified the storage groups to be used. We defined the datatype, primary keys and foreign keys in Mysql Workbench. Varchar was the datatype we chose for most of the columns.\n"
   ]
  },
  {
   "cell_type": "markdown",
   "id": "ade5c67f",
   "metadata": {},
   "source": [
    "###  Enhanced entity-relationship (EER)\n",
    "\n",
    "This model is helpful as a tool to plan the database and visualize the relationships among the tables.\n",
    "\n",
    "\n",
    "<a href =\"https://github.com/AleOrcutt/UnicornHealth/blob/65fffd57217f267270da1e0e0b6d7e936d601bf3/CapstoneEER.png\">EER diagram</a>"
   ]
  },
  {
   "cell_type": "markdown",
   "id": "23fc9567",
   "metadata": {},
   "source": [
    "### Resources used to create this notebook:\n",
    "\n",
    "\n",
    "* SQLite Python: Creating a New Database https://www.sqlitetutorial.net/sqlite-python/creating-database/\n",
    "* Database design & DBeaver | Information System 3 https://www.youtube.com/watch?v=ezPJtCeB_5I&t=149s\n",
    "* Mockaroo lets you generate up to 1,000 rows of realistic test data in CSV, JSON, SQL, and Excel formats https://www.mockaroo.com/"
   ]
  },
  {
   "cell_type": "markdown",
   "id": "94262a0d",
   "metadata": {},
   "source": [
    "\n",
    "# SCRATCH NOTES FOR A&Y\n",
    "\n",
    "SQLlite is not supported by RDS but I can store everything in an EC2 instance and then use Migration https://aws.amazon.com/dms/schema-conversion-tool/\n",
    "\n",
    "iam logic https://docs.aws.amazon.com/IAM/latest/UserGuide/reference_policies_evaluation-logic.html\n",
    "\n",
    "free AWS https://aws.amazon.com/free\n",
    "\n",
    "get a second aws account alejandra+alejandraa.orcutt.gmail.com (will not need a new email address)\n",
    "\n",
    "AWS trainer said it was a bad practice to put credentials in a Python script. He said to use a role instead for the script\n",
    "\n",
    "A single role can be assigned to different instances\n",
    "use AWS Artifact to comply with HIPPA for the capstone\n",
    "\n",
    "EXAMPLE to make a website https://cf.somethingskepper.com/#\n",
    "\n",
    "Maybe store Jupyter in S3 and share"
   ]
  },
  {
   "cell_type": "code",
   "execution_count": null,
   "id": "457f6cd3",
   "metadata": {},
   "outputs": [],
   "source": []
  }
 ],
 "metadata": {
  "kernelspec": {
   "display_name": "Python 3 (ipykernel)",
   "language": "python",
   "name": "python3"
  },
  "language_info": {
   "codemirror_mode": {
    "name": "ipython",
    "version": 3
   },
   "file_extension": ".py",
   "mimetype": "text/x-python",
   "name": "python",
   "nbconvert_exporter": "python",
   "pygments_lexer": "ipython3",
   "version": "3.9.7"
  }
 },
 "nbformat": 4,
 "nbformat_minor": 5
}
